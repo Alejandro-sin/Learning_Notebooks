{
 "cells": [
  {
   "cell_type": "markdown",
   "metadata": {},
   "source": [
    "# Scraper página 12\n",
    "Este script tiene como propósito scrapear artículos por seccioens del periodico, quiero extraer\n",
    "\n",
    "1. Título\n",
    "2. Volanta\n",
    "3. Fecha\n",
    "... Ver curso.\n",
    "\n",
    "Y almacenarlas en un data frame.\n",
    "Para esto debo realizar uan función que me obtengo los links de las secciones\n",
    "Otra que me permita extraer de las noticias individuales lo que requiero,\n",
    "Otra función que "
   ]
  },
  {
   "cell_type": "code",
   "execution_count": 89,
   "metadata": {
    "ExecuteTime": {
     "end_time": "2021-01-26T21:24:39.734477Z",
     "start_time": "2021-01-26T21:24:39.712814Z"
    }
   },
   "outputs": [],
   "source": [
    "import requests as rq\n",
    "from bs4 import BeautifulSoup as bs\n",
    "import pandas as pd\n",
    "import re\n",
    "\n"
   ]
  },
  {
   "cell_type": "code",
   "execution_count": 26,
   "metadata": {
    "ExecuteTime": {
     "end_time": "2021-01-26T15:16:25.503153Z",
     "start_time": "2021-01-26T15:16:25.020200Z"
    }
   },
   "outputs": [
    {
     "data": {
      "text/plain": [
       "['https://www.pagina12.com.ar/secciones/el-pais',\n",
       " 'https://www.pagina12.com.ar/secciones/economia',\n",
       " 'https://www.pagina12.com.ar/secciones/sociedad',\n",
       " 'https://www.pagina12.com.ar/suplementos/cultura-y-espectaculos',\n",
       " 'https://www.pagina12.com.ar/secciones/deportes',\n",
       " 'https://www.pagina12.com.ar/secciones/ciencia',\n",
       " 'https://www.pagina12.com.ar/secciones/el-mundo',\n",
       " 'https://www.pagina12.com.ar/edicion-impresa',\n",
       " 'https://www.pagina12.com.ar/secciones/universidad-diario',\n",
       " 'https://www.pagina12.com.ar/secciones/ajedrez',\n",
       " 'https://www.pagina12.com.ar/secciones/cultura',\n",
       " 'https://www.pagina12.com.ar/secciones/dialogos',\n",
       " 'https://www.pagina12.com.ar/secciones/plastica',\n",
       " 'https://www.pagina12.com.ar/secciones/psicologia',\n",
       " 'https://www.pagina12.com.ar/secciones/cartas-de-lectores',\n",
       " 'https://www.pagina12.com.ar/secciones/contratapa',\n",
       " 'https://www.pagina12.com.ar/secciones/audiovisuales',\n",
       " 'https://www.pagina12.com.ar/secciones/recordatorios',\n",
       " 'https://www.pagina12.com.ar/secciones/consumo',\n",
       " 'https://www.pagina12.com.ar/secciones/salta12',\n",
       " 'https://www.pagina12.com.ar/secciones/podcasts',\n",
       " 'https://www.pagina12.com.ar/secciones/soci@s',\n",
       " 'https://www.pagina12.com.ar/secciones/la-ventana']"
      ]
     },
     "execution_count": 26,
     "metadata": {},
     "output_type": "execute_result"
    }
   ],
   "source": [
    "url ='https://www.pagina12.com.ar/'\n",
    "response = rq.get(url)\n",
    "soup = bs(response.text, 'lxml')\n",
    "\n",
    "# Obtengo los links de todas las secciones.\n",
    "link_sections = []\n",
    "sections = soup.find('div', attrs ={'class':'p12-dropdown-column'}).find_all('a')\n",
    "for section in sections:\n",
    "    link_section = section.get('href')\n",
    "    link_sections.append(link_section)\n",
    "link_sections"
   ]
  },
  {
   "cell_type": "code",
   "execution_count": 84,
   "metadata": {
    "ExecuteTime": {
     "end_time": "2021-01-26T16:10:49.892316Z",
     "start_time": "2021-01-26T16:10:49.367457Z"
    }
   },
   "outputs": [
    {
     "data": {
      "text/plain": [
       "['https://www.pagina12.com.ar/319741-axel-kicillof-si-siguen-bajando-los-casos-la-semana-proxima-',\n",
       " 'https://www.pagina12.com.ar/319733-escandalo-en-mendoza-por-la-invitacion-de-la-hija-del-gobern',\n",
       " 'https://www.pagina12.com.ar/319727-que-dice-bienvenidos-al-lawfare-el-libro-de-raul-zaffaroni-c',\n",
       " 'https://www.pagina12.com.ar/319520-alberto-fernandez-en-la-cumbre-de-adaptacion-climatica-es-ne',\n",
       " 'https://www.pagina12.com.ar/319682-las-lecciones-de-la-forestal',\n",
       " 'https://www.pagina12.com.ar/319534-alberto-fernandez-le-deseo-pronta-recuperacion-de-coronaviru',\n",
       " 'https://www.pagina12.com.ar/319537-gladys-cabezas-a-24-anos-del-asesinato-de-su-hermano-jose-lu',\n",
       " 'https://www.pagina12.com.ar/319555-vuelta-a-las-clases-presenciales-las-diferencias-entre-bueno',\n",
       " 'https://www.pagina12.com.ar/319558-eduardo-wado-de-pedro-viaja-a-la-pampa-para-firmar-convenios',\n",
       " 'https://www.pagina12.com.ar/319561-la-anses-comunico-que-la-modificacion-de-los-datos-personale',\n",
       " 'https://www.pagina12.com.ar/319629-vacunas-se-espera-la-llamada-de-moscu']"
      ]
     },
     "execution_count": 84,
     "metadata": {},
     "output_type": "execute_result"
    }
   ],
   "source": [
    "# Quiero conseguir por sección de noticias cada link de las páginas, es decir una lista de las noticias por cada pagian de sección.\n",
    "\n",
    "url_section= 'https://www.pagina12.com.ar/secciones/el-pais'\n",
    "response = rq.get(url_section)\n",
    "soup = bs(response.text,'lxml')\n",
    "\n",
    "links_news_for_section =[]\n",
    "links_for_page = soup.find_all('div', attrs= {'class':'article-item__content'})\n",
    "\n",
    "for i in links_for_page:\n",
    "    anchor = i.find_all('a')\n",
    "    links_news_for_section.append(anchor[0].get('href'))\n",
    "links_news_for_section\n",
    "    "
   ]
  },
  {
   "cell_type": "code",
   "execution_count": 109,
   "metadata": {
    "ExecuteTime": {
     "end_time": "2021-01-26T21:51:16.889453Z",
     "start_time": "2021-01-26T21:51:16.404674Z"
    }
   },
   "outputs": [
    {
     "data": {
      "text/plain": [
       "{'title': 'Escándalo en Mendoza por la invitación de la hija del gobernador Rodolfo Suárez a una fiesta clandestina',\n",
       " 'body': 'En momentos en que los sistemas de control ponen la lupa en la detección y desarticulación de grandes aglomeraciones organizadas a espaldas de los resguardos sanitarios para frenar la pandemia de coronavirus, la hija del gobernador de Mendoza Rodolfo Suárez, quedó envuelta en un escándalo que la vincula con fiestas clandestinas en esa provincia.El hecho quedó al descubierto cuando la adolescente de 16 años publicó el fin de semana pasado en sus redes sociales una historia con una invitación: “Fest esta noche. Ubicación al privado. Viñas de Vistalba”. Dieron cuenta de ellos algunos medios locales y una andanada de usuarios que repudiaron la publicación.El posteo escrito sobre una fotografía de cuatro botellas de cerveza se trató de un mensaje que daba cuenta de la realización de una fiesta cuya ubicación se daría a conocer a quien le escribiera por privado, pero de la cual se daba una pista: Viñas de Vistalba, una zona del departamento mendocino de Luján de Cuyo.\\n \\n\\n\\n\\nLa invitación fue hecha el viernes pasado y se estima que la convocatoria pudo haber sido para esa misma noche o para la del sábado. Hasta ahora, las autoridades desconocen si esa fiesta se concretó.Además de la transgresión a la ley que implicaría la organización de ese evento, la gravedad del hecho reside en la vinculación que tuvo la hija del gobernador radical, quien hasta el momento no salió a aclarar lo ocurrido. Por lo tanto no está claro si ella era parte de la organización o si solamente compartió el dato en su historia Instagram.Lo cierto es que no es la primera vez que se la vincula con ese tipo de eventos. En noviembre de 2020, cuando aún regían las medidas de aislamiento, la adolescente fue “escrachada” en una de esas fiestas por personas que le tomaron fotografías.Un mes antes,\\xa0la joven había contraído covid-19. El propio Rodolfo Suárez dio la noticia en Twitter cuando avisó que se aislaría durante 14 días porque “mi hija de 16 años ha dado positivo en el test de coronavirus”.“Ella es asintomática y se encuentra en buen estado de salud. Tanto mi esposa, mi otro hijo conviviente y yo, hemos dado negativo”, avisó sin informar cómo su hija podría haberse contagiado el virus.\\n\\nhttps://twitter.com/rodysuarez/status/1318685403549937666\\n\\nMendoza es una provincia en la que están habilitadas las reuniones de hasta 250 personas en lugares abiertos y con el respeto y control de protocolos sanitarios de resguardo de la distancia social, uso de tapabocas y las demás recomendaciones para evitar la circulación y contagio de covid-19. Esto no es lo que ocurre en las fiestas clandestinas.La particularidad de este tipo de eventos organizados al margen de los permisos oficiales es que la gran mayoría se organiza en zonas de alta montaña. Y eso tiene un objetivo: las poco numerosas fuerzas de seguridad tardan en llegar con sus vehículos hasta allí.Al igual que varios mandatarios provinciales, Suárez desplegó una serie de medidas para prevenir las fiestas clandestinas que cuentan con grandes montajes de shows y música, y que se realizan sin respeto a las normativas sanitarias.La más grave, tal vez, fue la que se realizó en diciembre pasado en el Dique El Carrizal, también en Luján de Cuyo, donde centenares de personas se convocaron hasta en lanchas. La sanción para los organizadores de ese evento fue de medio millón de pesos.\\nNo obstante, las fiestas clandestinas siguieron. Hace 15 días se desarticuló una reunión de la que participaban 500 personas en un camping de la localidad de San Rafael.',\n",
       " 'datetime': '2021-01-26',\n",
       " 'img': 'https://images.pagina12.com.ar/styles/focal_3_2_960x640/public/2021-01/136524-whatsapp-20image-202021-01-26-20at-2010-40-36-20am.jpeg',\n",
       " 'section': 'El país'}"
      ]
     },
     "execution_count": 109,
     "metadata": {},
     "output_type": "execute_result"
    }
   ],
   "source": [
    "# Scraper de noticia inividual\n",
    "url = 'https://www.pagina12.com.ar/319733-escandalo-en-mendoza-por-la-invitacion-de-la-hija-del-gobern'\n",
    "response = rq.get(url)\n",
    "soup = bs(response.text, 'lxml')\n",
    "pattern ='?'\n",
    "\n",
    "\n",
    "dic_news ={}\n",
    "dic_news['title'] = soup.h1.get_text()\n",
    "dic_news['body'] = soup.find('div', attrs = {'class','article-text'}).get_text()\n",
    "dic_news['datetime'] = soup.find('div', attrs={'class':'time'}).find_all('span')[0].get('datetime')\n",
    "img_string = soup.find('div', attrs={'class':'article-main-media-image'}).find_all('img')[1].get('data-src')\n",
    "dic_news['img'] = re.sub('\\?.+', \"\",img_string)\n",
    "dic_news['section'] = soup.find('div', attrs = {'class':'suplement'}).get_text()\n",
    "\n",
    "dic_news\n"
   ]
  },
  {
   "cell_type": "code",
   "execution_count": null,
   "metadata": {},
   "outputs": [],
   "source": [
    "'''\n",
    "RETO: Usaremos los bloques para construir una función po funciones que ejecuten la tarea.!!\n",
    "\n",
    "1. Crear una función que me permita hacer un request y una sopa, porque voy a estar haciendo uso de eso.\n",
    "\n",
    "'''\n",
    "\n"
   ]
  }
 ],
 "metadata": {
  "kernelspec": {
   "display_name": "Python 3",
   "language": "python",
   "name": "python3"
  },
  "language_info": {
   "codemirror_mode": {
    "name": "ipython",
    "version": 3
   },
   "file_extension": ".py",
   "mimetype": "text/x-python",
   "name": "python",
   "nbconvert_exporter": "python",
   "pygments_lexer": "ipython3",
   "version": "3.8.3"
  },
  "latex_envs": {
   "LaTeX_envs_menu_present": true,
   "autoclose": false,
   "autocomplete": true,
   "bibliofile": "biblio.bib",
   "cite_by": "apalike",
   "current_citInitial": 1,
   "eqLabelWithNumbers": true,
   "eqNumInitial": 1,
   "hotkeys": {
    "equation": "Ctrl-E",
    "itemize": "Ctrl-I"
   },
   "labels_anchors": false,
   "latex_user_defs": false,
   "report_style_numbering": false,
   "user_envs_cfg": false
  },
  "toc": {
   "base_numbering": 1,
   "nav_menu": {},
   "number_sections": true,
   "sideBar": true,
   "skip_h1_title": false,
   "title_cell": "Table of Contents",
   "title_sidebar": "Contents",
   "toc_cell": false,
   "toc_position": {},
   "toc_section_display": true,
   "toc_window_display": false
  },
  "varInspector": {
   "cols": {
    "lenName": 16,
    "lenType": 16,
    "lenVar": 40
   },
   "kernels_config": {
    "python": {
     "delete_cmd_postfix": "",
     "delete_cmd_prefix": "del ",
     "library": "var_list.py",
     "varRefreshCmd": "print(var_dic_list())"
    },
    "r": {
     "delete_cmd_postfix": ") ",
     "delete_cmd_prefix": "rm(",
     "library": "var_list.r",
     "varRefreshCmd": "cat(var_dic_list()) "
    }
   },
   "types_to_exclude": [
    "module",
    "function",
    "builtin_function_or_method",
    "instance",
    "_Feature"
   ],
   "window_display": false
  }
 },
 "nbformat": 4,
 "nbformat_minor": 4
}
