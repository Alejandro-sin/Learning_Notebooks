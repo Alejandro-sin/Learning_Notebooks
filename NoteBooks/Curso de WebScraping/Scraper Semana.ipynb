{
 "cells": [
  {
   "cell_type": "markdown",
   "metadata": {},
   "source": [
    "## Scraper semana\n",
    "\n",
    "El propósito de este scraper extraer las noticias del periodico semana, todos los temas disponibles por la página.\n",
    "\n",
    "Notas: \n",
    "\n",
    "La structura de los hipervinculos posee un :\n",
    "\n",
    "/articulo/\n",
    "\n",
    "Podría usar regex para traer todo lo que posea esto.\n"
   ]
  },
  {
   "cell_type": "code",
   "execution_count": 1,
   "metadata": {
    "ExecuteTime": {
     "end_time": "2021-01-18T02:23:32.020912Z",
     "start_time": "2021-01-18T02:23:28.996458Z"
    }
   },
   "outputs": [],
   "source": [
    "import requests as rq\n",
    "import streamlit as st\n",
    "import pandas as pd\n",
    "from bs4 import BeautifulSoup as bs"
   ]
  },
  {
   "cell_type": "code",
   "execution_count": 2,
   "metadata": {
    "ExecuteTime": {
     "end_time": "2021-01-18T02:23:32.365175Z",
     "start_time": "2021-01-18T02:23:32.059890Z"
    }
   },
   "outputs": [
    {
     "name": "stdout",
     "output_type": "stream",
     "text": [
      "User-agent: *\n",
      "Allow: /\n",
      "Disallow: /*200966608/Semana/\n",
      "Disallow: /Modal/ModalPolicies.html\n",
      "Disallow: /Modal/ModalHabeasData.html\n",
      "Disallow: /revistaonline\n",
      "Disallow: /jetsetonline\n",
      "Disallow: /imprimir/\n",
      "Disallow: /pruebas/\n",
      "Disallow: /test/\n",
      "Disallow: /print\n",
      "Disallow: /compare-results\n",
      "Disallow: /proxy_u/\n",
      "Disallow: /alerts/       \n",
      "\n",
      "Sitemap: https://www.semana.com/arcio/sitemap/\n",
      "Sitemap: https://www.semana.com/arcio/sitemap-index/\n",
      "Sitemap: https://www.semana.com/arcio/news-sitemap/\n",
      "Sitemap: https://www.semana.com/arcio/video-sitemap/\n",
      "Sitemap: https://www.semana.com/arcio/gallery-sitemap/\n",
      "Sitemap: https://www.semana.com/sitemap_index.xml\n",
      "Sitemap: https://www.semana.com/sitemap_news.xml\n",
      "Sitemap: https://www.semana.com/sitemap-tags-semana.xml\n",
      "Sitemap: https://www.semana.com/sitemap-especiales.xml\n"
     ]
    }
   ],
   "source": [
    "\n",
    "url_robots ='https://www.semana.com/robots.txt'\n",
    "html_robots = rq.get(url_robots).text\n",
    "print(html_robots)\n"
   ]
  },
  {
   "cell_type": "code",
   "execution_count": null,
   "metadata": {
    "ExecuteTime": {
     "end_time": "2021-01-18T02:23:32.989188Z",
     "start_time": "2021-01-18T02:23:32.399685Z"
    }
   },
   "outputs": [],
   "source": []
  },
  {
   "cell_type": "code",
   "execution_count": 6,
   "metadata": {
    "ExecuteTime": {
     "end_time": "2021-01-18T02:23:33.237149Z",
     "start_time": "2021-01-18T02:23:33.193159Z"
    }
   },
   "outputs": [
    {
     "data": {
      "text/plain": [
       "\"sections = soup.find_all('div', attrs={'class':'card-body'})\\nsection = sections[0]\\nsection.a.get('href')\""
      ]
     },
     "execution_count": 6,
     "metadata": {},
     "output_type": "execute_result"
    }
   ],
   "source": [
    "'''sections = soup.find_all('div', attrs={'class':'card-body'})\n",
    "section = sections[0]\n",
    "section.a.get('href')'''"
   ]
  },
  {
   "cell_type": "code",
   "execution_count": null,
   "metadata": {
    "ExecuteTime": {
     "end_time": "2021-01-18T02:23:33.516112Z",
     "start_time": "2021-01-18T02:23:33.488117Z"
    }
   },
   "outputs": [],
   "source": [
    "link_news = [section.a.get('href') for section in sections ]\n",
    "link_news\n"
   ]
  },
  {
   "cell_type": "code",
   "execution_count": null,
   "metadata": {
    "ExecuteTime": {
     "end_time": "2021-01-18T02:23:33.748077Z",
     "start_time": "2021-01-18T02:23:33.722083Z"
    }
   },
   "outputs": [],
   "source": [
    "links =[url_semana+'{}'.format(link) for link in link_news]\n",
    "links"
   ]
  },
  {
   "cell_type": "markdown",
   "metadata": {},
   "source": [
    "### Notas\n",
    "\n",
    "Puedo sacar de los topicos una función con st. para crear un navbar y que me selccione las noticias que desea ver por tema"
   ]
  },
  {
   "cell_type": "code",
   "execution_count": null,
   "metadata": {
    "ExecuteTime": {
     "end_time": "2021-01-18T02:33:43.418221Z",
     "start_time": "2021-01-18T02:33:43.388225Z"
    }
   },
   "outputs": [],
   "source": [
    "topics = soup.find_all('h2', attrs={'class':'section-subtitle'})\n",
    "list_topics = [topic.get_text() for topic in topics]\n",
    "\n",
    "# Puedo sacar los st co\n",
    "list_topics\n"
   ]
  },
  {
   "cell_type": "code",
   "execution_count": null,
   "metadata": {
    "ExecuteTime": {
     "end_time": "2021-01-18T02:48:05.911604Z",
     "start_time": "2021-01-18T02:48:05.888610Z"
    }
   },
   "outputs": [],
   "source": [
    "#La URL es url_semana+topic+section\n",
    "url_semana_topic =  [url_semana+'{}'.format(t) for t in list_topics]\n",
    "url_semana_topic\n",
    "\n"
   ]
  },
  {
   "cell_type": "code",
   "execution_count": 7,
   "metadata": {
    "ExecuteTime": {
     "end_time": "2021-01-18T03:12:37.694431Z",
     "start_time": "2021-01-18T03:12:37.130941Z"
    }
   },
   "outputs": [
    {
     "data": {
      "text/plain": [
       "['https://www.semana.com//semana-tv/semana-noticias/articulo/presidente-duque-recuerda-al-ministro-carlos-holmes-trujillo/202133/',\n",
       " 'https://www.semana.com//nacion/articulo/en-vivo-presidente-ivan-duque-habla-sobre-la-muerte-de-carlos-holmes-trujillo/202126/',\n",
       " 'https://www.semana.com//nacion/articulo/fallecio-el-ministro-de-defensa-carlos-holmes-trujillo-victima-de-covid-19/202102/',\n",
       " 'https://www.semana.com//nacion/articulo/honrando-su-nombre-y-legado-superaremos-estos-dificiles-momentos-familia-de-carlos-holmes-trujillo/202140/',\n",
       " 'https://www.semana.com//nacion/articulo/el-tik-tak-de-maria-isabel-el-triste-adios-a-carlos-holmes/202137/',\n",
       " 'https://www.semana.com//nacion/articulo/fallecio-julio-roberto-gomez-presidente-de-la-confederacion-general-del-trabajo/202110/',\n",
       " 'https://www.semana.com//nacion/articulo/el-tik-tak-de-maria-isabel-quien-podra-suceder-al-ministro-carlos-holmes-trujillo/202110/',\n",
       " 'https://www.semana.com//nacion/articulo/luto-en-casanare-murio-johana-chala-secretaria-de-hacienda-del-departamento/202104/',\n",
       " 'https://www.semana.com//nacion/articulo/las-imagenes-de-la-finca-escenario-de-la-masacre-en-buga/202114/',\n",
       " 'https://www.semana.com//politica/articulo/carlos-holmes-trujillo-una-vida-entre-la-diplomacia-y-las-urnas/202121/',\n",
       " 'https://www.semana.com//economia/empresas/articulo/sindicatos-gremios-y-politicos-reaccionaron-a-la-muerte-de-julio-roberto-gomez/202113/',\n",
       " 'https://www.semana.com//economia/macroeconomia/articulo/declaracion-de-renta-2021-conozca-si-tiene-que-pagar-el-impuesto/202101/',\n",
       " 'https://www.semana.com//nacion/articulo/reaparece-el-exmagistrado-leonidas-bustos-en-juicio-contra-francisco-ricaurte/202112/',\n",
       " 'https://www.semana.com//nacion/articulo/el-celular-de-uno-de-los-sicarios-de-masacre-en-buga-seria-prueba-reina-en-el-caso/202143/',\n",
       " 'https://www.semana.com//coronavirus/articulo/oms-aprueba-el-uso-de-la-vacuna-de-moderna-contra-el-coronavirus/202124/',\n",
       " 'https://www.semana.com//mundo/europa/articulo/primer-ministro-italiano-giuseppe-conte-renuncio-a-su-cargo/202110/',\n",
       " 'https://www.semana.com//nacion/articulo/no-lo-olvide-asi-rige-el-pico-y-cedula-en-las-principales-ciudades-del-pais/202125/',\n",
       " 'https://www.semana.com//nacion/articulo/parte-el-alma-el-fallecimiento-de-carlos-holmes-trujillo-alvaro-uribe/202104/',\n",
       " 'https://www.semana.com//nacion/articulo/fue-un-estudioso-de-las-problematicas-para-el-pais-general-navarro-sobre-carlos-holmes/202117/',\n",
       " 'https://www.semana.com//nacion/articulo/procuraduria-fiscalia-altas-cortes-y-minjusticia-lamentan-muerte-del-ministro-carlos-holmes-trujillo/202126/',\n",
       " 'https://www.semana.com//nacion/articulo/el-sueno-incumplido-de-carlos-holmes-trujillo/202103/',\n",
       " 'https://www.semana.com//confidenciales/articulo/colombia-ha-perdido-a-un-gran-patriota-lider-y-estadista-embajador-de-estados-unidos-sobre-holmes-trujillo/202110/',\n",
       " 'https://www.semana.com//nacion/articulo/asi-reacciona-el-pais-al-fallecimiento-del-ministro-carlos-holmes-trujillo/202139/',\n",
       " 'https://www.semana.com//nacion/articulo/alcalde-de-cali-denuncia-amenazas-de-muerte-en-su-contra/202147/',\n",
       " 'https://www.semana.com//nacion/articulo/el-carlos-holmes-que-conoci-fernan-martinez/202150/',\n",
       " 'https://www.semana.com//nacion/articulo/el-reporte-oficial-del-fallecimiento-del-ministro-carlos-holmes-trujillo/202122/',\n",
       " 'https://www.semana.com//nacion/articulo/declaran-tres-dias-de-duelo-en-cali-por-muerte-del-ministro-carlos-holmes-trujillo/202127/',\n",
       " 'https://www.semana.com//coronavirus/articulo/el-coronavirus-se-convertira-en-una-enfermedad-endemica-advierte-la-oms/202145/',\n",
       " 'https://www.semana.com//mundo/articulo/ee-uu-alerta-que-al-qaeda-esta-ganando-fuerza/202109/',\n",
       " 'https://www.semana.com//mundo/articulo/china-confirma-disminucion-de-nuevos-casos-de-coronavirus/202116/',\n",
       " 'https://www.semana.com//mundo/articulo/preocupacion-por-salud-del-papa-francisco/202131/',\n",
       " 'https://www.semana.com//internacional/articulo/cuales-son-los-paises-que-pediran-pruebas-de-covid-19-para-viajar/202111/',\n",
       " 'https://www.semana.com//economia/inversionistas/articulo/bogota-aumentara-sus-emisiones-de-deuda-hasta-por-85-billones/202118/',\n",
       " 'https://www.semana.com//economia/empresas/articulo/los-trabajadores-de-google-crearan-una-alianza-sindical-de-alcance-global/202144/',\n",
       " 'https://www.semana.com//economia/finanzas-personales/articulo/consejos-para-que-las-deudas-no-lo-desborden-en-2021/202143/',\n",
       " 'https://www.semana.com//economia/articulo/la-lonchera-restaurante-de-sushi-abre-mas-locales-y-anuncia-convocatoria-de-empleo/202124/',\n",
       " 'https://www.semana.com//economia/articulo/flores-colombianas-que-pasara-con-san-valentin-este-ano/202114/',\n",
       " 'https://www.semana.com//economia/macroeconomia/articulo/fmi-volvio-a-mejorar-proyeccion-de-pib-mundial-para-2020-ahora-ve-una-caida-de-35/202150/',\n",
       " 'https://www.semana.com//economia/empresas/articulo/quindio-y-magdalena-las-regiones-en-donde-hubo-mayor-ocupacion-hotelera-en-vacaciones/202132/',\n",
       " 'https://www.semana.com//nacion/articulo/petro-envia-mensajes-de-condolencia-por-la-muerte-de-holmes-trujillo-y-julio-roberto-gomez/202108/',\n",
       " 'https://www.semana.com//nacion/articulo/revocatorias-de-alcaldes-costarian-un-poco-mas-de-150000-millones-de-pesos/202140/',\n",
       " 'https://www.semana.com//vida-moderna/articulo/que-es-la-colchicina-y-por-que-funcionaria-en-el-tratamiento-de-pacientes-con-covid-19/202115/',\n",
       " 'https://www.semana.com//gente/articulo/natalia-paris-y-el-dioxido-de-cloro-los-riesgos-de-la-sustancia-que-recomendo-en-sus-redes/202104/',\n",
       " 'https://www.semana.com//vida-moderna/articulo/como-se-rodaron-las-escenas-de-sexo-en-bridgerton/202115/',\n",
       " 'https://www.semana.com//coronavirus/articulo/astrazeneca-refuta-informacion-que-pone-en-duda-eficacia-de-su-vacuna-en-personas-mayores/202112/',\n",
       " 'https://www.semana.com//vida-moderna/articulo/detectan-el-primer-caso-de-la-variante-brasilena-del-coronavirus-en-ee-uu/202120/',\n",
       " 'https://www.semana.com//gente/articulo/todo-eso-fue-mentira-maluma-nego-que-su-familia-tenga-vinculos-con-el-narcotrafico/202158/',\n",
       " 'https://www.semana.com//gente/articulo/mis-viejos-regresan-a-casa-el-conmovedor-relato-de-carlos-calero-sobre-la-covid-de-sus-padres/202157/',\n",
       " 'https://www.semana.com//gente/articulo/maluma-sera-papa-esta-es-la-misteriosa-publicacion-que-desata-polemica-en-redes-sociales/202105/',\n",
       " 'https://www.semana.com//gente/articulo/cual-es-el-estado-de-salud-de-jorge-onate-hijo-del-cantante-revela-su-condicion-fisica/202136/',\n",
       " 'https://www.semana.com//nacion/articulo/la-alcaldia-de-buga-decreto-tres-dias-de-luto-en-homenaje-a-las-victimas-de-la-masacre/202154/',\n",
       " 'https://www.semana.com//nacion/articulo/lo-que-nos-convoca-es-la-vida-y-no-divisiones-inutiles-la-repuesta-de-claudia-lopez-a-quienes-buscan-su-revocatoria/202152/',\n",
       " 'https://www.semana.com//nacion/articulo/juez-falla-tutela-a-favor-de-robledo-en-contra-del-ministro-de-salud/202109/',\n",
       " 'https://www.semana.com//nacion/articulo/expresidente-alvaro-uribe-de-nuevo-le-gana-tutela-al-senador-ivan-cepeda/202129/',\n",
       " 'https://www.semana.com//tecnologia/articulo/cyberpunk-2077-corrige-errores-y-mejora-su-rendimiento-en-playstation-4-y-xbox-one/202139/',\n",
       " 'https://www.semana.com//economia/empresas/articulo/facebook-en-problemas-las-medidas-que-joe-biden-podria-tomar-contra-esta-red-social/202124/',\n",
       " 'https://www.semana.com//tecnologia/articulo/twitter-lanzo-el-programa-birdwatch-con-el-fin-de-combatir-la-desinformacion/202156/',\n",
       " 'https://www.semana.com//economia/empresas/articulo/huawei-desmiente-venta-de-sus-lineas-p-y-mate-a-inversionistas/202152/',\n",
       " 'https://www.semana.com//tecnologia/articulo/bioo-sensor-una-innovacion-para-generar-electricidad-a-partir-de-la-tierra/202145/',\n",
       " 'https://www.semana.com//cultura/articulo/godzilla-vs-kong-lanza-su-trailer-asi-es-el-espectacular-duelo-de-dos-gigantes/202142/',\n",
       " 'https://www.semana.com//cultura/articulo/los-estrenos-que-llegan-a-disney-plus-en-febrero-del-2021/202106/',\n",
       " 'https://www.semana.com//cultura/articulo/cuando-sera-la-fecha-de-estreno-de-la-quinta-temporada-de-la-casa-de-papel/202105/',\n",
       " 'https://www.semana.com//cultura/articulo/cinta-amarilla-beatriz-gonzalez-expone-sus-ultimas-obras-en-galeria-casas-riegner/202158/',\n",
       " 'https://www.semana.com//cultura/articulo/la-cumbia-la-identidad-la-resistencia-fernando-frias-de-la-parra-sobre-ya-no-estoy-aqui/202105/',\n",
       " 'https://www.semana.com//deportes/articulo/independiente-santa-fe-lamento-la-muerte-de-julio-roberto-gomez-miembro-de-la-junta-directiva-cardenal/202132/',\n",
       " 'https://www.semana.com//deportes/articulo/la-herencia-de-kobe-bryant-la-lista-de-sus-lujosos-bienes-y-que-paso-con-su-fortuna-tras-un-ano-de-su-muerte/202148/',\n",
       " 'https://www.semana.com//deportes/articulo/florida-pide-ser-la-sede-para-los-olimpicos-de-tokio-en-caso-de-cancelacion/202159/',\n",
       " 'https://www.semana.com//deportes/articulo/cual-es-la-responsabilidad-de-la-dimayor-en-la-calidad-de-los-estadios-y-sus-canchas/202108/',\n",
       " 'https://www.semana.com//educacion/articulo/laeducacionpresencialesvital-la-campana-para-que-reabran-los-colegios-en-el-pais/202145/',\n",
       " 'https://www.semana.com//educacion/articulo/las-razones-por-las-que-fecode-pide-no-regresar-a-clases-presenciales/202132/',\n",
       " 'https://www.semana.com//bogota/articulo/regreso-a-clases-en-bogota-distrito-anuncia-entrega-de-100000-tablets-a-estudiantes-de-colegios/202135/',\n",
       " 'https://www.semana.com//sostenibilidad/articulo/educacion-ambiental-reenfocar-la-politica-publica-es-la-tarea-en-colombia/202132/',\n",
       " 'https://www.semana.com//sostenibilidad/articulo/en-abril-entrara-en-vigor-el-acuerdo-de-escazu-y-colombia-sigue-sin-ratificarlo/202116/',\n",
       " 'https://www.semana.com//sostenibilidad/articulo/historico-nacieron-38-tortugas-laud-la-especie-mas-grande-del-planeta/202152/',\n",
       " 'https://www.semana.com//sostenibilidad/articulo/conozca-la-especie-de-palma-nativa-de-providencia-que-resistio-al-huracan-iota/202126/',\n",
       " 'https://www.semana.com//nacion/articulo/lucho-por-sus-convicciones-y-murio-defendiendolas-jose-renan-trujillo-hermano-del-ministro-de-defensa-carlos-holmes-trujillo/202146/',\n",
       " 'https://www.semana.com//nacion/articulo/asi-fue-la-llegada-a-colombia-de-hernan-giraldo-el-mayor-depredador-sexual-del-paramilitarismo/202141/',\n",
       " 'https://www.semana.com//bogota/articulo/cuales-son-los-cortes-de-agua-en-bogota-para-este-martes-26-de-enero/202129/',\n",
       " 'https://www.semana.com//nacion/articulo/cobardes-que-les-queda-grande-afrontar-la-vida-el-mensaje-del-coronel-vizcaino/202157/',\n",
       " 'https://www.semana.com//nacion/articulo/en-la-costa-una-comunidad-religiosa-espera-confinada-la-segunda-venida-de-jesucristo-para-este-28-de-enero/202125/',\n",
       " 'https://www.semana.com//nacion/articulo/declaran-alerta-roja-en-boyaca-por-alta-ocupacion-de-las-uci/202142/',\n",
       " 'https://www.semana.com//nacion/articulo/no-es-momento-de-revocatorias-no-es-momento-de-polarizacion-duque/202112/',\n",
       " 'https://www.semana.com//nacion/articulo/tik-tak-los-retiros-espirituales-de-fajardo-y-la-centro-izquierda-que-no-quiere-con-petro/202113/',\n",
       " 'https://www.semana.com//nacion/articulo/en-video-quedo-registrada-la-brutal-golpiza-que-un-hombre-le-propino-a-su-exnovia/202147/',\n",
       " 'https://www.semana.com//vida-moderna/articulo/luna-de-lobo-cual-es-su-significado-y-como-verla-el-28-de-enero-del-2021/202113/',\n",
       " 'https://www.semana.com//nacion/articulo/audiencias-de-revocatoria-de-alcaldes-de-bogota-y-medellin-arrancan-este-lunes/202129/',\n",
       " 'https://www.semana.com//bogota/articulo/ocupacion-de-las-uci-en-bogota-para-coronavirus-vuelve-a-tener-un-leve-aumento-llega-a-929/202111/']"
      ]
     },
     "execution_count": 7,
     "metadata": {},
     "output_type": "execute_result"
    }
   ],
   "source": [
    "'''\n",
    "Debería definir una función que reciba el string me haga el requests a cada página y de cada tema me \n",
    "traiga los links de las noticias.\n",
    "'''\n",
    "\n",
    "def daily_news(url):\n",
    "    # Hago el request\n",
    "    html_semana = rq.get(url).text\n",
    "    \n",
    "    #Creo al sopa\n",
    "    soup = bs(html_semana,'lxml')\n",
    "    \n",
    "    # Extraigo los temas generales de las noticias en forma de lista\n",
    "    topics = soup.find_all('h2', attrs={'class':'section-subtitle'})\n",
    "    list_topics = [topic.get_text() for topic in topics]\n",
    "    \n",
    "    # Extraigo el nombre de la noticia que proviene del atributo href de cada anchor dentro de los divs contendores.\n",
    "    sections = soup.find_all('div', attrs={'class':'card-body'})\n",
    "    section = sections[0]\n",
    "    section.a.get('href')\n",
    "    link_news = [section.a.get('href') for section in sections ]\n",
    "    links =[url+'{}'.format(link) for link in link_news]\n",
    "    \n",
    "    return links\n",
    "\n",
    "link_news = daily_news('https://www.semana.com/')\n",
    "link_news\n",
    "\n",
    "\n"
   ]
  },
  {
   "cell_type": "code",
   "execution_count": 12,
   "metadata": {},
   "outputs": [
    {
     "data": {
      "text/html": [
       "<div>\n",
       "<style scoped>\n",
       "    .dataframe tbody tr th:only-of-type {\n",
       "        vertical-align: middle;\n",
       "    }\n",
       "\n",
       "    .dataframe tbody tr th {\n",
       "        vertical-align: top;\n",
       "    }\n",
       "\n",
       "    .dataframe thead th {\n",
       "        text-align: right;\n",
       "    }\n",
       "</style>\n",
       "<table border=\"1\" class=\"dataframe\">\n",
       "  <thead>\n",
       "    <tr style=\"text-align: right;\">\n",
       "      <th></th>\n",
       "      <th>0</th>\n",
       "    </tr>\n",
       "  </thead>\n",
       "  <tbody>\n",
       "    <tr>\n",
       "      <th>0</th>\n",
       "      <td>https://www.semana.com//semana-tv/semana-notic...</td>\n",
       "    </tr>\n",
       "    <tr>\n",
       "      <th>1</th>\n",
       "      <td>https://www.semana.com//nacion/articulo/en-viv...</td>\n",
       "    </tr>\n",
       "    <tr>\n",
       "      <th>2</th>\n",
       "      <td>https://www.semana.com//nacion/articulo/fallec...</td>\n",
       "    </tr>\n",
       "    <tr>\n",
       "      <th>3</th>\n",
       "      <td>https://www.semana.com//nacion/articulo/honran...</td>\n",
       "    </tr>\n",
       "    <tr>\n",
       "      <th>4</th>\n",
       "      <td>https://www.semana.com//nacion/articulo/el-tik...</td>\n",
       "    </tr>\n",
       "    <tr>\n",
       "      <th>...</th>\n",
       "      <td>...</td>\n",
       "    </tr>\n",
       "    <tr>\n",
       "      <th>82</th>\n",
       "      <td>https://www.semana.com//nacion/articulo/tik-ta...</td>\n",
       "    </tr>\n",
       "    <tr>\n",
       "      <th>83</th>\n",
       "      <td>https://www.semana.com//nacion/articulo/en-vid...</td>\n",
       "    </tr>\n",
       "    <tr>\n",
       "      <th>84</th>\n",
       "      <td>https://www.semana.com//vida-moderna/articulo/...</td>\n",
       "    </tr>\n",
       "    <tr>\n",
       "      <th>85</th>\n",
       "      <td>https://www.semana.com//nacion/articulo/audien...</td>\n",
       "    </tr>\n",
       "    <tr>\n",
       "      <th>86</th>\n",
       "      <td>https://www.semana.com//bogota/articulo/ocupac...</td>\n",
       "    </tr>\n",
       "  </tbody>\n",
       "</table>\n",
       "<p>87 rows × 1 columns</p>\n",
       "</div>"
      ],
      "text/plain": [
       "                                                    0\n",
       "0   https://www.semana.com//semana-tv/semana-notic...\n",
       "1   https://www.semana.com//nacion/articulo/en-viv...\n",
       "2   https://www.semana.com//nacion/articulo/fallec...\n",
       "3   https://www.semana.com//nacion/articulo/honran...\n",
       "4   https://www.semana.com//nacion/articulo/el-tik...\n",
       "..                                                ...\n",
       "82  https://www.semana.com//nacion/articulo/tik-ta...\n",
       "83  https://www.semana.com//nacion/articulo/en-vid...\n",
       "84  https://www.semana.com//vida-moderna/articulo/...\n",
       "85  https://www.semana.com//nacion/articulo/audien...\n",
       "86  https://www.semana.com//bogota/articulo/ocupac...\n",
       "\n",
       "[87 rows x 1 columns]"
      ]
     },
     "execution_count": 12,
     "metadata": {},
     "output_type": "execute_result"
    }
   ],
   "source": [
    "'''\n",
    "data =[]\n",
    "for i, nota in enumerate(notas):\n",
    "    print(f'Scrapeadno nota{i}/{len(notas)})\n",
    "    data.append(scrape_nota(nota))\n",
    "\n",
    "'''\n",
    "\n",
    "df = pd.DataFrame(link_news)\n",
    "df\n",
    "\n"
   ]
  },
  {
   "cell_type": "code",
   "execution_count": 10,
   "metadata": {},
   "outputs": [
    {
     "name": "stdout",
     "output_type": "stream",
     "text": [
      "https://www.semana.com//semana-tv/semana-noticias/articulo/presidente-duque-recuerda-al-ministro-carlos-holmes-trujillo/202133/\n",
      "https://www.semana.com//nacion/articulo/en-vivo-presidente-ivan-duque-habla-sobre-la-muerte-de-carlos-holmes-trujillo/202126/\n",
      "https://www.semana.com//nacion/articulo/fallecio-el-ministro-de-defensa-carlos-holmes-trujillo-victima-de-covid-19/202102/\n",
      "https://www.semana.com//nacion/articulo/honrando-su-nombre-y-legado-superaremos-estos-dificiles-momentos-familia-de-carlos-holmes-trujillo/202140/\n",
      "https://www.semana.com//nacion/articulo/el-tik-tak-de-maria-isabel-el-triste-adios-a-carlos-holmes/202137/\n",
      "https://www.semana.com//nacion/articulo/fallecio-julio-roberto-gomez-presidente-de-la-confederacion-general-del-trabajo/202110/\n",
      "https://www.semana.com//nacion/articulo/el-tik-tak-de-maria-isabel-quien-podra-suceder-al-ministro-carlos-holmes-trujillo/202110/\n",
      "https://www.semana.com//nacion/articulo/luto-en-casanare-murio-johana-chala-secretaria-de-hacienda-del-departamento/202104/\n",
      "https://www.semana.com//nacion/articulo/las-imagenes-de-la-finca-escenario-de-la-masacre-en-buga/202114/\n",
      "https://www.semana.com//politica/articulo/carlos-holmes-trujillo-una-vida-entre-la-diplomacia-y-las-urnas/202121/\n",
      "https://www.semana.com//economia/empresas/articulo/sindicatos-gremios-y-politicos-reaccionaron-a-la-muerte-de-julio-roberto-gomez/202113/\n",
      "https://www.semana.com//economia/macroeconomia/articulo/declaracion-de-renta-2021-conozca-si-tiene-que-pagar-el-impuesto/202101/\n",
      "https://www.semana.com//nacion/articulo/reaparece-el-exmagistrado-leonidas-bustos-en-juicio-contra-francisco-ricaurte/202112/\n",
      "https://www.semana.com//nacion/articulo/el-celular-de-uno-de-los-sicarios-de-masacre-en-buga-seria-prueba-reina-en-el-caso/202143/\n",
      "https://www.semana.com//coronavirus/articulo/oms-aprueba-el-uso-de-la-vacuna-de-moderna-contra-el-coronavirus/202124/\n",
      "https://www.semana.com//mundo/europa/articulo/primer-ministro-italiano-giuseppe-conte-renuncio-a-su-cargo/202110/\n",
      "https://www.semana.com//nacion/articulo/no-lo-olvide-asi-rige-el-pico-y-cedula-en-las-principales-ciudades-del-pais/202125/\n",
      "https://www.semana.com//nacion/articulo/parte-el-alma-el-fallecimiento-de-carlos-holmes-trujillo-alvaro-uribe/202104/\n",
      "https://www.semana.com//nacion/articulo/fue-un-estudioso-de-las-problematicas-para-el-pais-general-navarro-sobre-carlos-holmes/202117/\n",
      "https://www.semana.com//nacion/articulo/procuraduria-fiscalia-altas-cortes-y-minjusticia-lamentan-muerte-del-ministro-carlos-holmes-trujillo/202126/\n",
      "https://www.semana.com//nacion/articulo/el-sueno-incumplido-de-carlos-holmes-trujillo/202103/\n",
      "https://www.semana.com//confidenciales/articulo/colombia-ha-perdido-a-un-gran-patriota-lider-y-estadista-embajador-de-estados-unidos-sobre-holmes-trujillo/202110/\n",
      "https://www.semana.com//nacion/articulo/asi-reacciona-el-pais-al-fallecimiento-del-ministro-carlos-holmes-trujillo/202139/\n",
      "https://www.semana.com//nacion/articulo/alcalde-de-cali-denuncia-amenazas-de-muerte-en-su-contra/202147/\n",
      "https://www.semana.com//nacion/articulo/el-carlos-holmes-que-conoci-fernan-martinez/202150/\n",
      "https://www.semana.com//nacion/articulo/el-reporte-oficial-del-fallecimiento-del-ministro-carlos-holmes-trujillo/202122/\n",
      "https://www.semana.com//nacion/articulo/declaran-tres-dias-de-duelo-en-cali-por-muerte-del-ministro-carlos-holmes-trujillo/202127/\n",
      "https://www.semana.com//coronavirus/articulo/el-coronavirus-se-convertira-en-una-enfermedad-endemica-advierte-la-oms/202145/\n",
      "https://www.semana.com//mundo/articulo/ee-uu-alerta-que-al-qaeda-esta-ganando-fuerza/202109/\n",
      "https://www.semana.com//mundo/articulo/china-confirma-disminucion-de-nuevos-casos-de-coronavirus/202116/\n",
      "https://www.semana.com//mundo/articulo/preocupacion-por-salud-del-papa-francisco/202131/\n",
      "https://www.semana.com//internacional/articulo/cuales-son-los-paises-que-pediran-pruebas-de-covid-19-para-viajar/202111/\n",
      "https://www.semana.com//economia/inversionistas/articulo/bogota-aumentara-sus-emisiones-de-deuda-hasta-por-85-billones/202118/\n",
      "https://www.semana.com//economia/empresas/articulo/los-trabajadores-de-google-crearan-una-alianza-sindical-de-alcance-global/202144/\n",
      "https://www.semana.com//economia/finanzas-personales/articulo/consejos-para-que-las-deudas-no-lo-desborden-en-2021/202143/\n",
      "https://www.semana.com//economia/articulo/la-lonchera-restaurante-de-sushi-abre-mas-locales-y-anuncia-convocatoria-de-empleo/202124/\n",
      "https://www.semana.com//economia/articulo/flores-colombianas-que-pasara-con-san-valentin-este-ano/202114/\n",
      "https://www.semana.com//economia/macroeconomia/articulo/fmi-volvio-a-mejorar-proyeccion-de-pib-mundial-para-2020-ahora-ve-una-caida-de-35/202150/\n",
      "https://www.semana.com//economia/empresas/articulo/quindio-y-magdalena-las-regiones-en-donde-hubo-mayor-ocupacion-hotelera-en-vacaciones/202132/\n",
      "https://www.semana.com//nacion/articulo/petro-envia-mensajes-de-condolencia-por-la-muerte-de-holmes-trujillo-y-julio-roberto-gomez/202108/\n",
      "https://www.semana.com//nacion/articulo/revocatorias-de-alcaldes-costarian-un-poco-mas-de-150000-millones-de-pesos/202140/\n",
      "https://www.semana.com//vida-moderna/articulo/que-es-la-colchicina-y-por-que-funcionaria-en-el-tratamiento-de-pacientes-con-covid-19/202115/\n",
      "https://www.semana.com//gente/articulo/natalia-paris-y-el-dioxido-de-cloro-los-riesgos-de-la-sustancia-que-recomendo-en-sus-redes/202104/\n",
      "https://www.semana.com//vida-moderna/articulo/como-se-rodaron-las-escenas-de-sexo-en-bridgerton/202115/\n",
      "https://www.semana.com//coronavirus/articulo/astrazeneca-refuta-informacion-que-pone-en-duda-eficacia-de-su-vacuna-en-personas-mayores/202112/\n",
      "https://www.semana.com//vida-moderna/articulo/detectan-el-primer-caso-de-la-variante-brasilena-del-coronavirus-en-ee-uu/202120/\n",
      "https://www.semana.com//gente/articulo/todo-eso-fue-mentira-maluma-nego-que-su-familia-tenga-vinculos-con-el-narcotrafico/202158/\n",
      "https://www.semana.com//gente/articulo/mis-viejos-regresan-a-casa-el-conmovedor-relato-de-carlos-calero-sobre-la-covid-de-sus-padres/202157/\n",
      "https://www.semana.com//gente/articulo/maluma-sera-papa-esta-es-la-misteriosa-publicacion-que-desata-polemica-en-redes-sociales/202105/\n",
      "https://www.semana.com//gente/articulo/cual-es-el-estado-de-salud-de-jorge-onate-hijo-del-cantante-revela-su-condicion-fisica/202136/\n",
      "https://www.semana.com//nacion/articulo/la-alcaldia-de-buga-decreto-tres-dias-de-luto-en-homenaje-a-las-victimas-de-la-masacre/202154/\n",
      "https://www.semana.com//nacion/articulo/lo-que-nos-convoca-es-la-vida-y-no-divisiones-inutiles-la-repuesta-de-claudia-lopez-a-quienes-buscan-su-revocatoria/202152/\n",
      "https://www.semana.com//nacion/articulo/juez-falla-tutela-a-favor-de-robledo-en-contra-del-ministro-de-salud/202109/\n",
      "https://www.semana.com//nacion/articulo/expresidente-alvaro-uribe-de-nuevo-le-gana-tutela-al-senador-ivan-cepeda/202129/\n",
      "https://www.semana.com//tecnologia/articulo/cyberpunk-2077-corrige-errores-y-mejora-su-rendimiento-en-playstation-4-y-xbox-one/202139/\n",
      "https://www.semana.com//economia/empresas/articulo/facebook-en-problemas-las-medidas-que-joe-biden-podria-tomar-contra-esta-red-social/202124/\n",
      "https://www.semana.com//tecnologia/articulo/twitter-lanzo-el-programa-birdwatch-con-el-fin-de-combatir-la-desinformacion/202156/\n",
      "https://www.semana.com//economia/empresas/articulo/huawei-desmiente-venta-de-sus-lineas-p-y-mate-a-inversionistas/202152/\n",
      "https://www.semana.com//tecnologia/articulo/bioo-sensor-una-innovacion-para-generar-electricidad-a-partir-de-la-tierra/202145/\n",
      "https://www.semana.com//cultura/articulo/godzilla-vs-kong-lanza-su-trailer-asi-es-el-espectacular-duelo-de-dos-gigantes/202142/\n",
      "https://www.semana.com//cultura/articulo/los-estrenos-que-llegan-a-disney-plus-en-febrero-del-2021/202106/\n",
      "https://www.semana.com//cultura/articulo/cuando-sera-la-fecha-de-estreno-de-la-quinta-temporada-de-la-casa-de-papel/202105/\n",
      "https://www.semana.com//cultura/articulo/cinta-amarilla-beatriz-gonzalez-expone-sus-ultimas-obras-en-galeria-casas-riegner/202158/\n",
      "https://www.semana.com//cultura/articulo/la-cumbia-la-identidad-la-resistencia-fernando-frias-de-la-parra-sobre-ya-no-estoy-aqui/202105/\n",
      "https://www.semana.com//deportes/articulo/independiente-santa-fe-lamento-la-muerte-de-julio-roberto-gomez-miembro-de-la-junta-directiva-cardenal/202132/\n"
     ]
    },
    {
     "name": "stdout",
     "output_type": "stream",
     "text": [
      "https://www.semana.com//deportes/articulo/la-herencia-de-kobe-bryant-la-lista-de-sus-lujosos-bienes-y-que-paso-con-su-fortuna-tras-un-ano-de-su-muerte/202148/\n",
      "https://www.semana.com//deportes/articulo/florida-pide-ser-la-sede-para-los-olimpicos-de-tokio-en-caso-de-cancelacion/202159/\n",
      "https://www.semana.com//deportes/articulo/cual-es-la-responsabilidad-de-la-dimayor-en-la-calidad-de-los-estadios-y-sus-canchas/202108/\n",
      "https://www.semana.com//educacion/articulo/laeducacionpresencialesvital-la-campana-para-que-reabran-los-colegios-en-el-pais/202145/\n",
      "https://www.semana.com//educacion/articulo/las-razones-por-las-que-fecode-pide-no-regresar-a-clases-presenciales/202132/\n",
      "https://www.semana.com//bogota/articulo/regreso-a-clases-en-bogota-distrito-anuncia-entrega-de-100000-tablets-a-estudiantes-de-colegios/202135/\n",
      "https://www.semana.com//sostenibilidad/articulo/educacion-ambiental-reenfocar-la-politica-publica-es-la-tarea-en-colombia/202132/\n",
      "https://www.semana.com//sostenibilidad/articulo/en-abril-entrara-en-vigor-el-acuerdo-de-escazu-y-colombia-sigue-sin-ratificarlo/202116/\n",
      "https://www.semana.com//sostenibilidad/articulo/historico-nacieron-38-tortugas-laud-la-especie-mas-grande-del-planeta/202152/\n",
      "https://www.semana.com//sostenibilidad/articulo/conozca-la-especie-de-palma-nativa-de-providencia-que-resistio-al-huracan-iota/202126/\n",
      "https://www.semana.com//nacion/articulo/lucho-por-sus-convicciones-y-murio-defendiendolas-jose-renan-trujillo-hermano-del-ministro-de-defensa-carlos-holmes-trujillo/202146/\n",
      "https://www.semana.com//nacion/articulo/asi-fue-la-llegada-a-colombia-de-hernan-giraldo-el-mayor-depredador-sexual-del-paramilitarismo/202141/\n",
      "https://www.semana.com//bogota/articulo/cuales-son-los-cortes-de-agua-en-bogota-para-este-martes-26-de-enero/202129/\n",
      "https://www.semana.com//nacion/articulo/cobardes-que-les-queda-grande-afrontar-la-vida-el-mensaje-del-coronel-vizcaino/202157/\n",
      "https://www.semana.com//nacion/articulo/en-la-costa-una-comunidad-religiosa-espera-confinada-la-segunda-venida-de-jesucristo-para-este-28-de-enero/202125/\n",
      "https://www.semana.com//nacion/articulo/declaran-alerta-roja-en-boyaca-por-alta-ocupacion-de-las-uci/202142/\n",
      "https://www.semana.com//nacion/articulo/no-es-momento-de-revocatorias-no-es-momento-de-polarizacion-duque/202112/\n",
      "https://www.semana.com//nacion/articulo/tik-tak-los-retiros-espirituales-de-fajardo-y-la-centro-izquierda-que-no-quiere-con-petro/202113/\n",
      "https://www.semana.com//nacion/articulo/en-video-quedo-registrada-la-brutal-golpiza-que-un-hombre-le-propino-a-su-exnovia/202147/\n",
      "https://www.semana.com//vida-moderna/articulo/luna-de-lobo-cual-es-su-significado-y-como-verla-el-28-de-enero-del-2021/202113/\n",
      "https://www.semana.com//nacion/articulo/audiencias-de-revocatoria-de-alcaldes-de-bogota-y-medellin-arrancan-este-lunes/202129/\n",
      "https://www.semana.com//bogota/articulo/ocupacion-de-las-uci-en-bogota-para-coronavirus-vuelve-a-tener-un-leve-aumento-llega-a-929/202111/\n"
     ]
    }
   ],
   "source": [
    "notas =[]\n",
    "for i, link in enumerate(link_news):\n",
    "    try:\n",
    "        response = rq.get(link)\n",
    "        if response.status_code == 200:\n",
    "            soup = bs(response.text, 'lxml')\n",
    "            notas.extend()\n",
    "    except Exception as e:\n",
    "        print(\"No existe noticia\")\n",
    "        \n",
    "           \n",
    "    \n",
    "    print(link)"
   ]
  },
  {
   "cell_type": "code",
   "execution_count": null,
   "metadata": {},
   "outputs": [],
   "source": []
  }
 ],
 "metadata": {
  "kernelspec": {
   "display_name": "Python 3",
   "language": "python",
   "name": "python3"
  },
  "language_info": {
   "codemirror_mode": {
    "name": "ipython",
    "version": 3
   },
   "file_extension": ".py",
   "mimetype": "text/x-python",
   "name": "python",
   "nbconvert_exporter": "python",
   "pygments_lexer": "ipython3",
   "version": "3.8.3"
  },
  "latex_envs": {
   "LaTeX_envs_menu_present": true,
   "autoclose": false,
   "autocomplete": true,
   "bibliofile": "biblio.bib",
   "cite_by": "apalike",
   "current_citInitial": 1,
   "eqLabelWithNumbers": true,
   "eqNumInitial": 1,
   "hotkeys": {
    "equation": "Ctrl-E",
    "itemize": "Ctrl-I"
   },
   "labels_anchors": false,
   "latex_user_defs": false,
   "report_style_numbering": false,
   "user_envs_cfg": false
  },
  "toc": {
   "base_numbering": 1,
   "nav_menu": {},
   "number_sections": true,
   "sideBar": true,
   "skip_h1_title": false,
   "title_cell": "Table of Contents",
   "title_sidebar": "Contents",
   "toc_cell": false,
   "toc_position": {},
   "toc_section_display": true,
   "toc_window_display": false
  },
  "varInspector": {
   "cols": {
    "lenName": 16,
    "lenType": 16,
    "lenVar": 40
   },
   "kernels_config": {
    "python": {
     "delete_cmd_postfix": "",
     "delete_cmd_prefix": "del ",
     "library": "var_list.py",
     "varRefreshCmd": "print(var_dic_list())"
    },
    "r": {
     "delete_cmd_postfix": ") ",
     "delete_cmd_prefix": "rm(",
     "library": "var_list.r",
     "varRefreshCmd": "cat(var_dic_list()) "
    }
   },
   "types_to_exclude": [
    "module",
    "function",
    "builtin_function_or_method",
    "instance",
    "_Feature"
   ],
   "window_display": false
  }
 },
 "nbformat": 4,
 "nbformat_minor": 4
}
