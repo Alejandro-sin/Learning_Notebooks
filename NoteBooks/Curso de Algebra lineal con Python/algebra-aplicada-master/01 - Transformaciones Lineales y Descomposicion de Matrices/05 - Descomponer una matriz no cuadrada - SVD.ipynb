{
 "cells": [
  {
   "cell_type": "code",
   "execution_count": 1,
   "metadata": {},
   "outputs": [],
   "source": [
    "# La descomposición de matrices en autovalores y autovectores soslo se efectua cuando es cuadrada.\n",
    "# Pero para descomponer matrices no cuadradas, requerimos descomponerlo en valroes singualres.\n",
    "#  Dadas 3 matruces u,v,d.\n",
    "#  U.V son ortogonales.  \n",
    "#  U tiene los vectores izquierdos singulares u1,u2,un...  \n",
    "#  V tiene los vectores derecho singulares v1,v2,vn...\n",
    "# NOTA: Son hasta n porque no tienen porque tener las mismas dirmensiones.\n",
    "# D diagonal.\n",
    "\n",
    "import numpy as np"
   ]
  },
  {
   "cell_type": "code",
   "execution_count": 2,
   "metadata": {},
   "outputs": [
    {
     "name": "stdout",
     "output_type": "stream",
     "text": [
      "[[1 2 3]\n",
      " [3 4 5]]\n"
     ]
    }
   ],
   "source": [
    "# Haremso descompsoición singular en esta matriz.\n",
    "A = np.array([[1,2,3], [3,4,5]])\n",
    "print(A)"
   ]
  },
  {
   "cell_type": "code",
   "execution_count": 3,
   "metadata": {},
   "outputs": [],
   "source": [
    "# svd Nos permtie calcualar lso valores singualres.\n",
    "U, D, V = np.linalg.svd(A)"
   ]
  },
  {
   "cell_type": "code",
   "execution_count": 4,
   "metadata": {},
   "outputs": [
    {
     "name": "stdout",
     "output_type": "stream",
     "text": [
      "[[-0.46410668 -0.88577931]\n",
      " [-0.88577931  0.46410668]]\n"
     ]
    }
   ],
   "source": [
    "# Matriz cuadrada\n",
    "print(U)"
   ]
  },
  {
   "cell_type": "code",
   "execution_count": 5,
   "metadata": {},
   "outputs": [
    {
     "name": "stdout",
     "output_type": "stream",
     "text": [
      "[7.97638869 0.61418515]\n"
     ]
    }
   ],
   "source": [
    "print(D)"
   ]
  },
  {
   "cell_type": "code",
   "execution_count": 7,
   "metadata": {},
   "outputs": [
    {
     "name": "stdout",
     "output_type": "stream",
     "text": [
      "[[7.97638869 0.        ]\n",
      " [0.         0.61418515]]\n"
     ]
    }
   ],
   "source": [
    "# Asi vemos la diagonal como tal.\n",
    "print(np.diag(D))"
   ]
  },
  {
   "cell_type": "code",
   "execution_count": 8,
   "metadata": {},
   "outputs": [
    {
     "name": "stdout",
     "output_type": "stream",
     "text": [
      "[[-0.39133557 -0.5605708  -0.72980603]\n",
      " [ 0.8247362   0.13817999 -0.54837623]\n",
      " [ 0.40824829 -0.81649658  0.40824829]]\n"
     ]
    }
   ],
   "source": [
    "\n",
    "print(V)"
   ]
  },
  {
   "cell_type": "code",
   "execution_count": null,
   "metadata": {},
   "outputs": [],
   "source": [
    "#  A= U*D*V \n",
    "# Vectores y matrices peuden pensarse como subtranformaciones del espacio\n",
    "# sI TUVIERAMOS MATRI 3X2 AL TRANSFORMAR EL ESPACIO ES cONVERTIR r3 A r2, ES DECIR, \n",
    "# ES CONDENSAR INFORMACIÓN QUE HABÍA EN UN TERCER EJE EN \n",
    "# DOS"
   ]
  }
 ],
 "metadata": {
  "kernelspec": {
   "display_name": "Python 3",
   "language": "python",
   "name": "python3"
  },
  "language_info": {
   "codemirror_mode": {
    "name": "ipython",
    "version": 3
   },
   "file_extension": ".py",
   "mimetype": "text/x-python",
   "name": "python",
   "nbconvert_exporter": "python",
   "pygments_lexer": "ipython3",
   "version": "3.7.6"
  }
 },
 "nbformat": 4,
 "nbformat_minor": 2
}
