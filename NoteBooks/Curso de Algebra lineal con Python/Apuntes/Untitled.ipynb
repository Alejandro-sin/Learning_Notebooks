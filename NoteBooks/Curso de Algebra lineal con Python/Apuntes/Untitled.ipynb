{
 "cells": [
  {
   "cell_type": "code",
   "execution_count": 10,
   "metadata": {},
   "outputs": [
    {
     "name": "stdout",
     "output_type": "stream",
     "text": [
      "[[1. 0. 0. 0.]\n",
      " [0. 1. 0. 0.]\n",
      " [0. 0. 1. 0.]\n",
      " [0. 0. 0. 1.]]\n",
      "Soy una matriz inversa \n",
      " [[-1.  1.]\n",
      " [-2.  3.]]\n",
      "Soy una matriz identidad \n",
      " [[1.00000000e+00 0.00000000e+00]\n",
      " [2.22044605e-16 1.00000000e+00]]\n"
     ]
    }
   ],
   "source": [
    "import numpy as np\n",
    "import matplotlib.pyplot as plt\n",
    "\n",
    "#Tipos especiales de matrices: Identidad, Inversa, Singulares\n",
    "# Identidad\n",
    "\n",
    "identidad = np.eye(4)\n",
    "#Me devuelve TODO flotante, los 1 y 0. ¿Porqué? Es el leemento neutro dentro de las matrices, es el 1 para los números.\n",
    "#La identidad no transforma el espacio.\n",
    "\n",
    "\n",
    "print(identidad)\n",
    "\n",
    "#Transformación lienal, es tener un vector que transfomro cuando aplico o multiplico una matriz.\n",
    "\n",
    "# Inversa\n",
    "# A* X = AI\n",
    "A = np.array([[-3, 1], [-2, 1]])\n",
    "inversaA = np.linalg.inv(A)\n",
    "print(f'Soy una matriz inversa \\n {inversaA}')\n",
    "\n",
    "#Identidad\n",
    "\n",
    "I = np.array([[1,0,1],[0,1,1],[-1,1,1]])\n",
    "\n",
    "\n",
    "#Matriz singular cuanod no existe la identidad.\n",
    "print(f'Soy una matriz singular \\n {A.dot(inversaA)}')\n",
    "\n",
    "\n",
    "# Singular\n"
   ]
  },
  {
   "cell_type": "code",
   "execution_count": null,
   "metadata": {},
   "outputs": [],
   "source": [
    "# Lo importante es entender que:\n",
    "# Puedo calcular mis incognitas con la propiedad de \n",
    "# Ax= b\n",
    "# x = b* A^-1\n",
    "\n",
    "\n",
    "\n",
    "#"
   ]
  }
 ],
 "metadata": {
  "kernelspec": {
   "display_name": "Python 3",
   "language": "python",
   "name": "python3"
  },
  "language_info": {
   "codemirror_mode": {
    "name": "ipython",
    "version": 3
   },
   "file_extension": ".py",
   "mimetype": "text/x-python",
   "name": "python",
   "nbconvert_exporter": "python",
   "pygments_lexer": "ipython3",
   "version": "3.8.3"
  }
 },
 "nbformat": 4,
 "nbformat_minor": 4
}
