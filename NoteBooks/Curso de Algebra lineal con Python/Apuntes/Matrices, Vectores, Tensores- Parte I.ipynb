{
 "cells": [
  {
   "cell_type": "code",
   "execution_count": 1,
   "metadata": {},
   "outputs": [
    {
     "name": "stdout",
     "output_type": "stream",
     "text": [
      "3.8.3\n"
     ]
    }
   ],
   "source": [
    "#Para conocer las versiones de python\n",
    "\n",
    "from platform import python_version\n",
    "print(python_version())"
   ]
  },
  {
   "cell_type": "code",
   "execution_count": 5,
   "metadata": {},
   "outputs": [
    {
     "name": "stdout",
     "output_type": "stream",
     "text": [
      "Hola Jupyter\n"
     ]
    }
   ],
   "source": [
    "#Con shit enter ejecutamos un bloque de Codigo.\n",
    "print(\"Hola Jupyter\")"
   ]
  },
  {
   "cell_type": "code",
   "execution_count": 10,
   "metadata": {},
   "outputs": [],
   "source": [
    "#Con control barra inverita comentamos todo\n",
    "\n",
    "# ctrl + /\n",
    "\n",
    "# # 12\n",
    "# # 34\n",
    "# # asd\n"
   ]
  },
  {
   "cell_type": "code",
   "execution_count": null,
   "metadata": {},
   "outputs": [],
   "source": [
    "#Por performance no nos combiene pasarnos de las 100 celdas, particionar el trabajo en diferetnes nombres e smuy util.\n",
    "#Para llamar el código de un notebook de otro Jupyter. \n",
    "%run \"..\\\\funciones_auxiliares\" --> Se indica la ruta donde estan las funciones.\n",
    "\n"
   ]
  },
  {
   "cell_type": "code",
   "execution_count": 33,
   "metadata": {},
   "outputs": [
    {
     "name": "stdout",
     "output_type": "stream",
     "text": [
      "Soy el  vector: \n",
      " [1 2 3]\n",
      "Soy la matriz:\n",
      " [[1 2 3]\n",
      " [3 4 5]]\n",
      "Soy el tensor:\n",
      " [[[  1   3   5]\n",
      "  [  0   0   1]\n",
      "  [ 13  15  17]]\n",
      "\n",
      " [[128   4 128]\n",
      "  [128 128 128]\n",
      "  [128 128 128]]\n",
      "\n",
      " [[255 255 255]\n",
      "  [255 255 255]\n",
      "  [255 255 255]]]\n"
     ]
    }
   ],
   "source": [
    "import numpy as np\n",
    "vector = np.array([1,2,3])\n",
    "print(f'Soy el  vector: \\n {vector}')\n",
    "matriz = np.array([[1,2,3],[3,4,5]])\n",
    "print(f'Soy la matriz:\\n {matriz}')\n",
    "tensor = np.array([\n",
    "    [[1,3,5],[0,0,1],[13,15,17]],\n",
    "    [[128,4,128],[128,128,128],[128,128,128]],\n",
    "    [[255,255,255],[255,255,255],[255,255,255]],\n",
    "])\n",
    "print(f'Soy el tensor:\\n {tensor}')"
   ]
  },
  {
   "cell_type": "code",
   "execution_count": 23,
   "metadata": {},
   "outputs": [],
   "source": [
    "#Queremos qu elos gráfico se vena debajo de nuestra celda.\n",
    "%matplotlib inline\n",
    "import matplotlib.pyplot as plt"
   ]
  },
  {
   "cell_type": "code",
   "execution_count": 34,
   "metadata": {},
   "outputs": [
    {
     "data": {
      "image/png": "[encoded data removed]",
      "text/plain": [
       "<Figure size 432x288 with 1 Axes>"
      ]
     },
     "metadata": {
      "needs_background": "light"
     },
     "output_type": "display_data"
    }
   ],
   "source": [
    "#Interpolamos, interpolar es como se unene los espacios entre dos números.\n",
    "#Los colores resultantes hacen referencia a la escala de pixelación d 0 a 255 bytes.\n",
    "\n",
    "plt.imshow (tensor, interpolation='nearest')\n",
    "plt.show()"
   ]
  },
  {
   "cell_type": "code",
   "execution_count": 45,
   "metadata": {},
   "outputs": [
    {
     "data": {
      "text/plain": [
       "(2, 3)"
      ]
     },
     "execution_count": 45,
     "metadata": {},
     "output_type": "execute_result"
    }
   ],
   "source": [
    "# Para ver las dimensiones y porque es importante. Debido a que vamos a hacer cuentas.\n",
    "#.shpe sirve para que cada objeto devuelva las diemnsiones. Hay operaciones que no pueden hacerse entre matrices y vectores.\n",
    "\n",
    "vector.shape\n",
    "# (3,)\n",
    "matriz.shape\n",
    "#(2,3) \n",
    "tensor.shape\n",
    "#(3,3,3) (filas, columnas, cantidad de veces que se repite)\n"
   ]
  },
  {
   "cell_type": "code",
   "execution_count": 47,
   "metadata": {},
   "outputs": [
    {
     "name": "stdout",
     "output_type": "stream",
     "text": [
      "Tengo 27 elementos dentro de mi\n"
     ]
    }
   ],
   "source": [
    "#Size devuelve la cantidad de elementos que tiene la matriz, tensor...\n",
    "print(f'Tengo {tensor.size} elementos dentro de mi')\n"
   ]
  },
  {
   "cell_type": "code",
   "execution_count": 48,
   "metadata": {},
   "outputs": [],
   "source": [
    "#Tensores sirven para pensar una matriz que evoluciona en el tiempo. Si con una matriz podemos representar una foto, con un tensor podemos repreentar un video.\n",
    "\n"
   ]
  },
  {
   "cell_type": "code",
   "execution_count": 61,
   "metadata": {},
   "outputs": [
    {
     "name": "stdout",
     "output_type": "stream",
     "text": [
      "[1 2 3 4]\n",
      "[[1 4 7]\n",
      " [2 5 8]\n",
      " [3 6 9]]\n",
      "[[[ 1 11 21]\n",
      "  [ 4 14 24]\n",
      "  [ 6 17 27]]\n",
      "\n",
      " [[ 2 12 22]\n",
      "  [ 5 15 25]\n",
      "  [ 7 18 28]]\n",
      "\n",
      " [[ 3 13 23]\n",
      "  [ 6 16 26]\n",
      "  [ 8 19 29]]]\n",
      "[[1 2 3]\n",
      " [4 5 6]\n",
      " [7 8 9]]\n"
     ]
    }
   ],
   "source": [
    "#Transposición, suma de matrices y escalares.\n",
    "#Transponer es cambiar las filas por columnas, por lo que para lso escalares no tiene sentido.\n",
    "\n",
    "escalar = 5.678\n",
    "vector = np.array([1,2,3,4])\n",
    "matriz = np.array([[1,2,3],[4,5,6],[7,8,9]])\n",
    "tensor = np.array([\n",
    "    [[1,2,3],[4,5,6],[6,7,8]],\n",
    "    [[11,12,13],[14,15,16],[17,18,19]],\n",
    "    [[21,22,23],[24,25,26],[27,28,29]],\n",
    "])\n",
    "\n",
    "#Trasnpuesta de vector: Me devuelve el mismo vector. \n",
    "\n",
    "vectorT= vector.T\n",
    "print(vectorT)\n",
    "\n",
    "# Transpuesta de una matriz: Sucede la transposición, las filas ahora son columnas.\n",
    "\n",
    "matrizT= matriz.T\n",
    "print(matrizT)\n",
    "\n",
    "#Trasnpuesta de un tensor: Lo que inicialmente estaba en un vector, los escalares me los transpone en las demás matrices.\n",
    "# Ver los escalares (1,2,3) de tensor y tensorT para entender mejor.\n",
    "\n",
    "tensorT = tensor.T\n",
    "print(tensorT)\n",
    "\n",
    "\n",
    "#Las transpuestas son de gran interes: Si es posible expresar un sistema de ecuaciones en un sistema \n",
    "#matricial es crucial al transpuesta\n",
    "\n",
    "# (AT)T = A\n",
    "\n",
    "matriz_inicial = matrizT.T\n",
    "print(matriz_inicial)\n",
    "\n",
    "\n",
    "\n"
   ]
  },
  {
   "cell_type": "code",
   "execution_count": 64,
   "metadata": {},
   "outputs": [
    {
     "name": "stdout",
     "output_type": "stream",
     "text": [
      "[[4 6 7]\n",
      " [4 5 5]]\n"
     ]
    }
   ],
   "source": [
    "#Suma de matrices de las mismas dimensiones\n",
    "A = np.array([[1,2,3],[3,4,1]])\n",
    "B = np.array([[3,4,4],[1,1,4]])\n",
    "C = A + B\n",
    "print(C)"
   ]
  },
  {
   "cell_type": "code",
   "execution_count": 66,
   "metadata": {},
   "outputs": [
    {
     "name": "stdout",
     "output_type": "stream",
     "text": [
      "[[3 3 3]\n",
      " [4 4 4]\n",
      " [5 5 5]]\n"
     ]
    }
   ],
   "source": [
    "#Matriz y un escalar.\n",
    "numero = 2\n",
    "matriz_a= np.array([[1,1,1],[2,2,2], [3,3,3]])\n",
    "matriz_escalar = matriz_a +numero \n",
    "print(matriz_escalar)\n"
   ]
  },
  {
   "cell_type": "code",
   "execution_count": 77,
   "metadata": {},
   "outputs": [
    {
     "name": "stdout",
     "output_type": "stream",
     "text": [
      "[[3 4 7]\n",
      " [3 4 7]]\n"
     ]
    }
   ],
   "source": [
    "#Se peuden realizar operaciones matriciales de diferentes \n",
    "# diemsnsiones cuando se cumplen las condiciones en python para hacer broadcasting.\n",
    "\n",
    "X= np.array ([1,1,3])\n",
    "M= np.array ([[2,2],[3,3], [4,4]])\n",
    "# r= X + M\n",
    "# print(r)\n",
    "\n",
    "# Arrojará:\n",
    "\n",
    "# ---------------------------------------------------------------------------\n",
    "# ValueError                                Traceback (most recent call last)\n",
    "# <ipython-input-76-695fd9b579db> in <module>\n",
    "#       4 X= np.array ([1,1,3])\n",
    "#       5 M= np.array ([[2,2],[3,3], [4,4]])\n",
    "# ----> 6 r= X + M\n",
    "#       7 print(r)\n",
    "#       8 # Arrojará:\n",
    "\n",
    "# ValueError: operands could not be broadcast together with shapes (3,) (3,2) \n",
    "\n",
    "# Hay que usar la transpuestas para que las dimensiones en las filas sean las mismas.\n",
    "\n",
    "rT= M.T +X\n",
    "print(rT)\n",
    "\n",
    "#Broadcasting en resumen es extender un elemento hasta completar o igual el de mayro dimensión.\n"
   ]
  },
  {
   "cell_type": "code",
   "execution_count": null,
   "metadata": {},
   "outputs": [],
   "source": []
  }
 ],
 "metadata": {
  "kernelspec": {
   "display_name": "Python 3",
   "language": "python",
   "name": "python3"
  },
  "language_info": {
   "codemirror_mode": {
    "name": "ipython",
    "version": 3
   },
   "file_extension": ".py",
   "mimetype": "text/x-python",
   "name": "python",
   "nbconvert_exporter": "python",
   "pygments_lexer": "ipython3",
   "version": "3.8.3"
  }
 },
 "nbformat": 4,
 "nbformat_minor": 4
}
