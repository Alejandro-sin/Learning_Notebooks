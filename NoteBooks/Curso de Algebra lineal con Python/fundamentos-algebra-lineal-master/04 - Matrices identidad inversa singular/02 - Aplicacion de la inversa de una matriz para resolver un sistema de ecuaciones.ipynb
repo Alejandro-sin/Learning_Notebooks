{
 "cells": [
  {
   "cell_type": "code",
   "execution_count": 5,
   "metadata": {},
   "outputs": [],
   "source": [
    "import numpy as np"
   ]
  },
  {
   "cell_type": "code",
   "execution_count": 6,
   "metadata": {},
   "outputs": [],
   "source": [
    "#Esto quiere decir que todos los resultados aproximados a cero con decimale smuy pequeños me lso arpxime a cero.\n",
    "np.set_printoptions(suppress=True)"
   ]
  },
  {
   "cell_type": "code",
   "execution_count": 7,
   "metadata": {},
   "outputs": [
    {
     "name": "stdout",
     "output_type": "stream",
     "text": [
      "[[3 1]\n",
      " [2 1]]\n"
     ]
    }
   ],
   "source": [
    "# Vamos a resolver 3x + y = 1  , 2x +y =1 \n",
    "\n",
    "A = np.array([[3,1],[2,1]])\n",
    "print(A)"
   ]
  },
  {
   "cell_type": "code",
   "execution_count": 8,
   "metadata": {},
   "outputs": [],
   "source": [
    "b = np.array([[1],[1]])"
   ]
  },
  {
   "cell_type": "code",
   "execution_count": 9,
   "metadata": {},
   "outputs": [
    {
     "name": "stdout",
     "output_type": "stream",
     "text": [
      "[[ 1. -1.]\n",
      " [-2.  3.]]\n"
     ]
    }
   ],
   "source": [
    "# Determino A^-1 con linalg.inv\n",
    "inversa_A = np.linalg.inv(A)\n",
    "print(inversa_A)"
   ]
  },
  {
   "cell_type": "code",
   "execution_count": 10,
   "metadata": {},
   "outputs": [
    {
     "name": "stdout",
     "output_type": "stream",
     "text": [
      "[[0.]\n",
      " [1.]]\n"
     ]
    }
   ],
   "source": [
    "# Hago el producto interno de AI(b)\n",
    "x = inversa_A.dot(b)\n",
    "print(x)"
   ]
  },
  {
   "cell_type": "code",
   "execution_count": 11,
   "metadata": {},
   "outputs": [
    {
     "name": "stdout",
     "output_type": "stream",
     "text": [
      "[[1.]\n",
      " [1.]]\n",
      "[[ True]\n",
      " [ True]]\n"
     ]
    }
   ],
   "source": [
    "#La prubea de nuestra solución es AX = b\n",
    "b1 =A.dot(x)\n",
    "print(A.dot(x))\n",
    "print(b1 == b )"
   ]
  },
  {
   "cell_type": "code",
   "execution_count": 12,
   "metadata": {},
   "outputs": [
    {
     "name": "stdout",
     "output_type": "stream",
     "text": [
      "[[-4.]\n",
      " [15.]]\n"
     ]
    }
   ],
   "source": [
    "#Igualamos nuestra ecuación a otros otros coeficientes. El nuevo b es 3 y 7 \n",
    "sol_2 = inversa_A.dot(np.array([[3],[7]]))\n",
    "print(sol_2)"
   ]
  },
  {
   "cell_type": "code",
   "execution_count": 13,
   "metadata": {},
   "outputs": [
    {
     "name": "stdout",
     "output_type": "stream",
     "text": [
      "[[3.]\n",
      " [7.]]\n"
     ]
    }
   ],
   "source": [
    "#   Prueba de solución para AX= b\n",
    "print(A.dot(sol_2))"
   ]
  },
  {
   "cell_type": "code",
   "execution_count": null,
   "metadata": {},
   "outputs": [],
   "source": [
    "##Los sistemas homogenoes son ventajosos ocmputaiconalemtne, pero debido a la forma en la que tratamos los números, debemos recurrir a aproximación numérica, que utilizan el valor de b para llegar a la solución correcta"
   ]
  }
 ],
 "metadata": {
  "kernelspec": {
   "display_name": "Python 3",
   "language": "python",
   "name": "python3"
  },
  "language_info": {
   "codemirror_mode": {
    "name": "ipython",
    "version": 3
   },
   "file_extension": ".py",
   "mimetype": "text/x-python",
   "name": "python",
   "nbconvert_exporter": "python",
   "pygments_lexer": "ipython3",
   "version": "3.8.3"
  }
 },
 "nbformat": 4,
 "nbformat_minor": 2
}
