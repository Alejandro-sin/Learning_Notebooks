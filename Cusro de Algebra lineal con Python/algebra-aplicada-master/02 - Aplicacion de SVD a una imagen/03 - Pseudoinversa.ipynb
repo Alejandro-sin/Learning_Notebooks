{
 "cells": [
  {
   "cell_type": "code",
   "execution_count": 23,
   "metadata": {},
   "outputs": [],
   "source": [
    "#La inversa de Moore Penrose es una aplicación directa de svd nos\n",
    "# permtie resolver en determinados momentos sistemas de ecuacione lineales\n",
    "#  ax=B\n",
    "# a^-1 =>X>B^-1 \n",
    "# AA_pse aproximadamente es = I\n",
    "\n",
    "# Descomposicón SVD\n",
    "# Apse=V Dpse U.T\n",
    "\n",
    "import numpy as np\n",
    "\n",
    "np.set_printoptions(suppress=True)"
   ]
  },
  {
   "cell_type": "code",
   "execution_count": 24,
   "metadata": {},
   "outputs": [
    {
     "name": "stdout",
     "output_type": "stream",
     "text": [
      "[[ 1  4]\n",
      " [ 2  5]\n",
      " [-3  6]]\n"
     ]
    }
   ],
   "source": [
    "A = np.array([[1,4], [2, 5], [-3, 6]])\n",
    "print(A)"
   ]
  },
  {
   "cell_type": "code",
   "execution_count": 25,
   "metadata": {},
   "outputs": [
    {
     "name": "stdout",
     "output_type": "stream",
     "text": [
      "U\n",
      "[[-0.44700764  0.33725879  0.82851716]\n",
      " [-0.55337417  0.62345191 -0.55234477]\n",
      " [-0.70282373 -0.70538233 -0.09205746]]\n",
      "D\n",
      "[8.78936588 3.70770109]\n",
      "V\n",
      "[[ 0.06311209 -0.99800645]\n",
      " [ 0.99800645  0.06311209]]\n"
     ]
    }
   ],
   "source": [
    "U, D, V = np.linalg.svd(A)\n",
    "print(\"U\")\n",
    "print(U)\n",
    "print(\"D\")\n",
    "print(D)\n",
    "print(\"V\")\n",
    "print(V)"
   ]
  },
  {
   "cell_type": "code",
   "execution_count": 26,
   "metadata": {},
   "outputs": [
    {
     "name": "stdout",
     "output_type": "stream",
     "text": [
      "[[0. 0. 0.]\n",
      " [0. 0. 0.]]\n"
     ]
    }
   ],
   "source": [
    "#La pseudo inversa Moore Penrose, cuando verifica 4 condiciones existe y es única.\n",
    "# Deinifmos uan matriz de ceros que tenga el mismo tamaño a la matriz orignal A.\n",
    "# \n",
    "D_pse = np.zeros((A.shape[0], A.shape[1])).T\n",
    "print(D_pse)"
   ]
  },
  {
   "cell_type": "code",
   "execution_count": 27,
   "metadata": {},
   "outputs": [
    {
     "name": "stdout",
     "output_type": "stream",
     "text": [
      "Valores a reemplazar en D_pse\n",
      "[[0. 0.]\n",
      " [0. 0.]]\n"
     ]
    }
   ],
   "source": [
    "\n",
    "print(\"Valores a reemplazar en D_pse\")\n",
    "print(D_pse[:D.shape[0], :D.shape[0]])"
   ]
  },
  {
   "cell_type": "code",
   "execution_count": 28,
   "metadata": {},
   "outputs": [
    {
     "name": "stdout",
     "output_type": "stream",
     "text": [
      "Valores que pondremos en D_pse\n",
      "[[0.11377385 0.        ]\n",
      " [0.         0.2697089 ]]\n"
     ]
    }
   ],
   "source": [
    "print(\"Valores que pondremos en D_pse\")\n",
    "print(np.linalg.inv(np.diag(D)))"
   ]
  },
  {
   "cell_type": "code",
   "execution_count": 29,
   "metadata": {},
   "outputs": [
    {
     "name": "stdout",
     "output_type": "stream",
     "text": [
      "D_pse\n",
      "[[0.11377385 0.         0.        ]\n",
      " [0.         0.2697089  0.        ]]\n"
     ]
    }
   ],
   "source": [
    "print(\"D_pse\")\n",
    "D_pse[:D.shape[0], :D.shape[0]] = np.linalg.inv(np.diag(D))\n",
    "print(D_pse)"
   ]
  },
  {
   "cell_type": "code",
   "execution_count": 30,
   "metadata": {},
   "outputs": [
    {
     "name": "stdout",
     "output_type": "stream",
     "text": [
      "[[ 0.08757062  0.16384181 -0.19491525]\n",
      " [ 0.05649718  0.07344633  0.06779661]]\n"
     ]
    }
   ],
   "source": [
    "# lA MTARIZ QUE NOS MUESTRA PRODÍA O NO SE R UNA INVERSA DE A\n",
    "A_pse = V.T.dot(D_pse).dot(U.T)\n",
    "print(A_pse)"
   ]
  },
  {
   "cell_type": "code",
   "execution_count": 31,
   "metadata": {},
   "outputs": [
    {
     "name": "stdout",
     "output_type": "stream",
     "text": [
      "[[ 0.08757062  0.16384181 -0.19491525]\n",
      " [ 0.05649718  0.07344633  0.06779661]]\n"
     ]
    }
   ],
   "source": [
    "# Para validar que La matrizz A pseudoinversa calculamos la pseudo inversa de A.\n",
    "A_pse_calc = np.linalg.pinv(A)\n",
    "print(A_pse_calc)"
   ]
  },
  {
   "cell_type": "code",
   "execution_count": 32,
   "metadata": {},
   "outputs": [
    {
     "name": "stdout",
     "output_type": "stream",
     "text": [
      "[[ 1. -0.]\n",
      " [-0.  1.]]\n"
     ]
    }
   ],
   "source": [
    "# Esta matriz podria o no vritifca rlo que le pedimos. Queremos ver que acando aplciamos la pseudoniversa a la matriz a Es algo muy cercano a la identidad.\n",
    "# el -0  es porque tenemos el suprres.Nos mostrará numeros muy pequeños.\n",
    "print(A_pse.dot(A))"
   ]
  },
  {
   "cell_type": "code",
   "execution_count": 33,
   "metadata": {},
   "outputs": [],
   "source": [
    "np.set_printoptions(suppress = False)"
   ]
  },
  {
   "cell_type": "code",
   "execution_count": 34,
   "metadata": {},
   "outputs": [
    {
     "name": "stdout",
     "output_type": "stream",
     "text": [
      "[[ 1.00000000e+00 -2.22044605e-16]\n",
      " [-5.55111512e-17  1.00000000e+00]]\n"
     ]
    }
   ],
   "source": [
    "# Es un valro muy cercano a la inversa, e scercano, porque minimiza la norma 2 de estas instancias.\n",
    "print(A_pse.dot(A))"
   ]
  },
  {
   "cell_type": "code",
   "execution_count": 35,
   "metadata": {},
   "outputs": [
    {
     "name": "stdout",
     "output_type": "stream",
     "text": [
      "[[ 0.31355932  0.45762712  0.07627119]\n",
      " [ 0.45762712  0.69491525 -0.05084746]\n",
      " [ 0.07627119 -0.05084746  0.99152542]]\n"
     ]
    }
   ],
   "source": [
    "# Esot no tiene la propiedad que tiene una inversa comun. No puedo multiplicar a derecha o izqueirda.\n",
    "# No son conmutativas. \n",
    "print(A.dot(A_pse))"
   ]
  },
  {
   "cell_type": "code",
   "execution_count": 36,
   "metadata": {},
   "outputs": [
    {
     "name": "stdout",
     "output_type": "stream",
     "text": [
      "[[ 0.08757062  0.16384181 -0.19491525]\n",
      " [ 0.05649718  0.07344633  0.06779661]]\n"
     ]
    }
   ],
   "source": [
    "# Segundo tipo de pseudo inversa. Me dará una matriz ue es ifual a la utilizada en el métod SVD, esta es más certera y tien emenos erroes\n",
    "# computacionalmente hablando.\n",
    "\n",
    "A_pse_2 = np.linalg.inv(A.T.dot(A)).dot(A.T)\n",
    "\n",
    "print(A_pse_2)"
   ]
  },
  {
   "cell_type": "code",
   "execution_count": 37,
   "metadata": {},
   "outputs": [
    {
     "name": "stdout",
     "output_type": "stream",
     "text": [
      "[[ 0.08757062  0.16384181 -0.19491525]\n",
      " [ 0.05649718  0.07344633  0.06779661]]\n"
     ]
    }
   ],
   "source": [
    "print(A_pse)"
   ]
  },
  {
   "cell_type": "code",
   "execution_count": null,
   "metadata": {},
   "outputs": [],
   "source": []
  }
 ],
 "metadata": {
  "kernelspec": {
   "display_name": "Python 3",
   "language": "python",
   "name": "python3"
  },
  "language_info": {
   "codemirror_mode": {
    "name": "ipython",
    "version": 3
   },
   "file_extension": ".py",
   "mimetype": "text/x-python",
   "name": "python",
   "nbconvert_exporter": "python",
   "pygments_lexer": "ipython3",
   "version": "3.7.6"
  }
 },
 "nbformat": 4,
 "nbformat_minor": 2
}
