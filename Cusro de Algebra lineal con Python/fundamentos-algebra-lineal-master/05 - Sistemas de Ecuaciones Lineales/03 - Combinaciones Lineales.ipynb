{
 "cells": [
  {
   "cell_type": "code",
   "execution_count": 2,
   "metadata": {},
   "outputs": [],
   "source": [
    "#Combinaciones lineales son: V1* Escalar + V2*Escalar = V1V2 \n",
    "\n",
    "%matplotlib inline\n",
    "\n",
    "import numpy as np\n",
    "import matplotlib.pyplot as plt"
   ]
  },
  {
   "cell_type": "code",
   "execution_count": 3,
   "metadata": {},
   "outputs": [],
   "source": [
    "%run \"..\\\\funciones_auxiliares\\\\graficarVectores.ipynb\""
   ]
  },
  {
   "cell_type": "code",
   "execution_count": 4,
   "metadata": {},
   "outputs": [],
   "source": [
    "v1 = np.array([2,5])\n",
    "v2 = np.array([3,2])"
   ]
  },
  {
   "cell_type": "code",
   "execution_count": 12,
   "metadata": {},
   "outputs": [],
   "source": [
    "v1v2 = 2*v1+v2"
   ]
  },
  {
   "cell_type": "code",
   "execution_count": 13,
   "metadata": {},
   "outputs": [
    {
     "name": "stdout",
     "output_type": "stream",
     "text": [
      "[ 7 12]\n"
     ]
    }
   ],
   "source": [
    "print(v1v2)"
   ]
  },
  {
   "cell_type": "code",
   "execution_count": 14,
   "metadata": {},
   "outputs": [
    {
     "data": {
      "text/plain": [
       "(-1, 12)"
      ]
     },
     "execution_count": 14,
     "metadata": {},
     "output_type": "execute_result"
    },
    {
     "data": {
      "image/png": "[encoded data removed]",
      "text/plain": [
       "<Figure size 432x288 with 1 Axes>"
      ]
     },
     "metadata": {
      "needs_background": "light"
     },
     "output_type": "display_data"
    }
   ],
   "source": [
    "graficarVectores([v1, v2, v1v2], [\"orange\", \"blue\", \"red\"])\n",
    "plt.xlim(-1, 8)\n",
    "plt.ylim(-1, 12)"
   ]
  },
  {
   "cell_type": "code",
   "execution_count": 15,
   "metadata": {},
   "outputs": [
    {
     "data": {
      "image/png": "[encoded data removed]",
      "text/plain": [
       "<Figure size 432x288 with 1 Axes>"
      ]
     },
     "metadata": {
      "needs_background": "light"
     },
     "output_type": "display_data"
    }
   ],
   "source": [
    "#Los paralelogramos existen por combinaciones lineales de vectores. Un vector n y un vector m, Vn termina en un punto y sigue \n",
    "#un camino paralelo a la dirección de Vector m, inclussice con la misma distancia,\n",
    "\n",
    "#Vamos a calcular un subconjunto de combinaciones lineales.\n",
    "\n",
    "#Queremos que un escalar a se mueva en un rango x, y\n",
    "for a in range(-10,10):\n",
    "    #Le decimos que nuestro escalar b se mueva en un x,y \n",
    "    for b in range(-10,10):\n",
    "        #Aqui la definición de combinación lineal.\n",
    "        #Le decimos, que para una cordena 1 empiece en cero * por los a,b escalares en el rango x,y.\n",
    "        plt.scatter(v1[0]*a + v2[0]*b, v1[1]*a + v2[1]*b,\n",
    "                   marker = '.',\n",
    "                   color = \"red\")\n",
    "        \n",
    "plt.xlim(-100,100)\n",
    "plt.ylim(-100,100)\n",
    "\n",
    "plt.axvline(x=0, color='grey')\n",
    "plt.axhline(y=0, color='grey')\n",
    "\n",
    "plt.show()\n",
    "\n",
    "#Queda demostrado que con dos vectores podemos definir TODO R2. Es decir podemos modelar el espacio.\n",
    "# Estaríamos dibujando con la combinación lineal de dos vectores. Con los vectores correctos nos permite describir un espacio entero.\n"
   ]
  },
  {
   "cell_type": "code",
   "execution_count": null,
   "metadata": {},
   "outputs": [],
   "source": []
  }
 ],
 "metadata": {
  "kernelspec": {
   "display_name": "Python 3",
   "language": "python",
   "name": "python3"
  },
  "language_info": {
   "codemirror_mode": {
    "name": "ipython",
    "version": 3
   },
   "file_extension": ".py",
   "mimetype": "text/x-python",
   "name": "python",
   "nbconvert_exporter": "python",
   "pygments_lexer": "ipython3",
   "version": "3.8.3"
  }
 },
 "nbformat": 4,
 "nbformat_minor": 2
}
